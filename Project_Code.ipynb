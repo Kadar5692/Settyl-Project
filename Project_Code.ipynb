{
  "cells": [
    {
      "cell_type": "markdown",
      "metadata": {
        "id": "view-in-github",
        "colab_type": "text"
      },
      "source": [
        "<a href=\"https://colab.research.google.com/github/Kadar5692/Settyl-Project/blob/main/Project_Code.ipynb\" target=\"_parent\"><img src=\"https://colab.research.google.com/assets/colab-badge.svg\" alt=\"Open In Colab\"/></a>"
      ]
    },
    {
      "cell_type": "code",
      "execution_count": null,
      "metadata": {
        "colab": {
          "base_uri": "https://localhost:8080/"
        },
        "id": "5ym0LCuvzdG0",
        "outputId": "55baad4d-8dd6-4637-e6a7-013fafd86f26"
      },
      "outputs": [
        {
          "name": "stdout",
          "output_type": "stream",
          "text": [
            "Missing values in the dataset:\n",
            "externalStatus    0\n",
            "internalStatus    0\n",
            "dtype: int64\n"
          ]
        },
        {
          "name": "stderr",
          "output_type": "stream",
          "text": [
            "/usr/local/lib/python3.10/dist-packages/sklearn/preprocessing/_encoders.py:868: FutureWarning: `sparse` was renamed to `sparse_output` in version 1.2 and will be removed in 1.4. `sparse_output` is ignored unless you leave `sparse` to its default value.\n",
            "  warnings.warn(\n"
          ]
        },
        {
          "name": "stdout",
          "output_type": "stream",
          "text": [
            "Epoch 1/20\n",
            "31/31 [==============================] - 1s 10ms/step - loss: 2.5657 - accuracy: 0.3695 - val_loss: 2.4359 - val_accuracy: 0.5143\n",
            "Epoch 2/20\n",
            "31/31 [==============================] - 0s 6ms/step - loss: 2.1958 - accuracy: 0.5947 - val_loss: 2.0098 - val_accuracy: 0.5347\n",
            "Epoch 3/20\n",
            "31/31 [==============================] - 0s 8ms/step - loss: 1.6375 - accuracy: 0.6387 - val_loss: 1.5058 - val_accuracy: 0.6490\n",
            "Epoch 4/20\n",
            "31/31 [==============================] - 0s 7ms/step - loss: 1.1570 - accuracy: 0.7390 - val_loss: 1.1560 - val_accuracy: 0.6694\n",
            "Epoch 5/20\n",
            "31/31 [==============================] - 0s 7ms/step - loss: 0.8704 - accuracy: 0.7462 - val_loss: 0.9463 - val_accuracy: 0.6735\n",
            "Epoch 6/20\n",
            "31/31 [==============================] - 0s 9ms/step - loss: 0.6952 - accuracy: 0.7820 - val_loss: 0.7943 - val_accuracy: 0.7714\n",
            "Epoch 7/20\n",
            "31/31 [==============================] - 0s 5ms/step - loss: 0.5594 - accuracy: 0.8444 - val_loss: 0.6652 - val_accuracy: 0.8245\n",
            "Epoch 8/20\n",
            "31/31 [==============================] - 0s 9ms/step - loss: 0.4470 - accuracy: 0.9017 - val_loss: 0.5454 - val_accuracy: 0.8735\n",
            "Epoch 9/20\n",
            "31/31 [==============================] - 0s 8ms/step - loss: 0.3460 - accuracy: 0.9345 - val_loss: 0.4414 - val_accuracy: 0.8857\n",
            "Epoch 10/20\n",
            "31/31 [==============================] - 0s 8ms/step - loss: 0.2627 - accuracy: 0.9488 - val_loss: 0.3582 - val_accuracy: 0.9061\n",
            "Epoch 11/20\n",
            "31/31 [==============================] - 0s 6ms/step - loss: 0.2008 - accuracy: 0.9539 - val_loss: 0.2944 - val_accuracy: 0.9224\n",
            "Epoch 12/20\n",
            "31/31 [==============================] - 0s 6ms/step - loss: 0.1548 - accuracy: 0.9775 - val_loss: 0.2439 - val_accuracy: 0.9510\n",
            "Epoch 13/20\n",
            "31/31 [==============================] - 0s 6ms/step - loss: 0.1213 - accuracy: 0.9836 - val_loss: 0.2068 - val_accuracy: 0.9551\n",
            "Epoch 14/20\n",
            "31/31 [==============================] - 0s 6ms/step - loss: 0.0949 - accuracy: 0.9959 - val_loss: 0.1765 - val_accuracy: 0.9673\n",
            "Epoch 15/20\n",
            "31/31 [==============================] - 0s 5ms/step - loss: 0.0751 - accuracy: 0.9990 - val_loss: 0.1513 - val_accuracy: 0.9673\n",
            "Epoch 16/20\n",
            "31/31 [==============================] - 0s 7ms/step - loss: 0.0594 - accuracy: 1.0000 - val_loss: 0.1328 - val_accuracy: 0.9673\n",
            "Epoch 17/20\n",
            "31/31 [==============================] - 0s 6ms/step - loss: 0.0478 - accuracy: 1.0000 - val_loss: 0.1186 - val_accuracy: 0.9673\n",
            "Epoch 18/20\n",
            "31/31 [==============================] - 0s 11ms/step - loss: 0.0385 - accuracy: 1.0000 - val_loss: 0.1097 - val_accuracy: 0.9673\n",
            "Epoch 19/20\n",
            "31/31 [==============================] - 0s 5ms/step - loss: 0.0317 - accuracy: 1.0000 - val_loss: 0.1032 - val_accuracy: 0.9673\n",
            "Epoch 20/20\n",
            "31/31 [==============================] - 0s 7ms/step - loss: 0.0263 - accuracy: 1.0000 - val_loss: 0.0995 - val_accuracy: 0.9714\n"
          ]
        },
        {
          "name": "stderr",
          "output_type": "stream",
          "text": [
            "/usr/local/lib/python3.10/dist-packages/keras/src/engine/training.py:3103: UserWarning: You are saving your model as an HDF5 file via `model.save()`. This file format is considered legacy. We recommend using instead the native Keras format, e.g. `model.save('my_model.keras')`.\n",
            "  saving_api.save_model(\n"
          ]
        },
        {
          "name": "stdout",
          "output_type": "stream",
          "text": [
            "Requirement already satisfied: fastapi in /usr/local/lib/python3.10/dist-packages (0.110.1)\n",
            "Requirement already satisfied: pydantic!=1.8,!=1.8.1,!=2.0.0,!=2.0.1,!=2.1.0,<3.0.0,>=1.7.4 in /usr/local/lib/python3.10/dist-packages (from fastapi) (2.6.4)\n",
            "Requirement already satisfied: starlette<0.38.0,>=0.37.2 in /usr/local/lib/python3.10/dist-packages (from fastapi) (0.37.2)\n",
            "Requirement already satisfied: typing-extensions>=4.8.0 in /usr/local/lib/python3.10/dist-packages (from fastapi) (4.11.0)\n",
            "Requirement already satisfied: annotated-types>=0.4.0 in /usr/local/lib/python3.10/dist-packages (from pydantic!=1.8,!=1.8.1,!=2.0.0,!=2.0.1,!=2.1.0,<3.0.0,>=1.7.4->fastapi) (0.6.0)\n",
            "Requirement already satisfied: pydantic-core==2.16.3 in /usr/local/lib/python3.10/dist-packages (from pydantic!=1.8,!=1.8.1,!=2.0.0,!=2.0.1,!=2.1.0,<3.0.0,>=1.7.4->fastapi) (2.16.3)\n",
            "Requirement already satisfied: anyio<5,>=3.4.0 in /usr/local/lib/python3.10/dist-packages (from starlette<0.38.0,>=0.37.2->fastapi) (3.7.1)\n",
            "Requirement already satisfied: idna>=2.8 in /usr/local/lib/python3.10/dist-packages (from anyio<5,>=3.4.0->starlette<0.38.0,>=0.37.2->fastapi) (3.6)\n",
            "Requirement already satisfied: sniffio>=1.1 in /usr/local/lib/python3.10/dist-packages (from anyio<5,>=3.4.0->starlette<0.38.0,>=0.37.2->fastapi) (1.3.1)\n",
            "Requirement already satisfied: exceptiongroup in /usr/local/lib/python3.10/dist-packages (from anyio<5,>=3.4.0->starlette<0.38.0,>=0.37.2->fastapi) (1.2.0)\n"
          ]
        }
      ],
      "source": [
        "# Import necessary libraries\n",
        "import tensorflow as tf\n",
        "import pandas as pd\n",
        "import numpy as np\n",
        "from sklearn.model_selection import train_test_split\n",
        "from sklearn.preprocessing import OneHotEncoder, LabelEncoder\n",
        "\n",
        "# Load the dataset\n",
        "data_file_path = '/content/drive/MyDrive/Colab Notebooks/dataset.json'\n",
        "df = pd.read_json(data_file_path)\n",
        "\n",
        "# Check for missing values\n",
        "print(\"Missing values in the dataset:\")\n",
        "print(df.isnull().sum())\n",
        "\n",
        "# One-hot encode 'externalStatus'\n",
        "encoder = OneHotEncoder(drop='first', sparse=False)\n",
        "external_status_encoded = pd.DataFrame(encoder.fit_transform(df[['externalStatus']]))\n",
        "\n",
        "# Encode 'internalStatus' using LabelEncoder\n",
        "label_encoder = LabelEncoder()\n",
        "internal_status_encoded = label_encoder.fit_transform(df['internalStatus'])\n",
        "\n",
        "# Combine encoded features with other numerical features\n",
        "X = pd.concat([external_status_encoded, df.drop(columns=['externalStatus', 'internalStatus'])], axis=1).values\n",
        "y = internal_status_encoded\n",
        "\n",
        "# Split the data into training and testing sets\n",
        "X_train, X_test, y_train, y_test = train_test_split(X, y, test_size=0.2, random_state=42)\n",
        "\n",
        "# Define the model architecture\n",
        "model = tf.keras.Sequential([\n",
        "    tf.keras.layers.Dense(64, activation='relu', input_shape=(X_train.shape[1],)),\n",
        "    tf.keras.layers.Dense(32, activation='relu'),\n",
        "    tf.keras.layers.Dense(len(label_encoder.classes_), activation='softmax')\n",
        "])\n",
        "\n",
        "# Compile the model\n",
        "model.compile(optimizer='adam', loss='sparse_categorical_crossentropy', metrics=['accuracy'])\n",
        "\n",
        "# Train the model\n",
        "history = model.fit(X_train, y_train, epochs=20, batch_size=32, validation_data=(X_test, y_test))\n",
        "\n",
        "# Save the trained model\n",
        "model.save('/content/drive/MyDrive/Colab Notebooks/trained_model.h5')\n",
        "\n",
        "# Define FastAPI app\n",
        "!pip install fastapi\n",
        "from fastapi import FastAPI\n",
        "from pydantic import BaseModel\n",
        "\n",
        "app = FastAPI()\n",
        "\n",
        "# Define input data model\n",
        "class InputData(BaseModel):\n",
        "    external_status: str\n",
        "\n",
        "# Load the trained model\n",
        "model = tf.keras.models.load_model('/content/drive/MyDrive/Colab Notebooks/trained_model.h5')\n",
        "\n",
        "# Define endpoint for making predictions\n",
        "@app.post(\"/predict/\")\n",
        "async def predict(input_data: InputData):\n",
        "    # Preprocess input data\n",
        "    external_status = np.array([input_data.external_status])\n",
        "    external_status_encoded = encoder.transform(external_status.reshape(-1, 1))\n",
        "\n",
        "    # Make predictions\n",
        "    predictions = model.predict(external_status_encoded)\n",
        "    predicted_class = np.argmax(predictions, axis=1)[0]\n",
        "\n",
        "    # Map predicted class to label (you may need to adjust this based on your label encoding)\n",
        "    labels = {i: label for i, label in enumerate(label_encoder.classes_)}\n",
        "    predicted_label = labels.get(predicted_class, 'Unknown')\n",
        "\n",
        "    return {\"predicted_internal_status\": predicted_label}\n"
      ]
    },
    {
      "cell_type": "code",
      "execution_count": null,
      "metadata": {
        "colab": {
          "base_uri": "https://localhost:8080/"
        },
        "id": "tVHSTY1i_TGk",
        "outputId": "2d318a67-6001-4f3d-f97d-f59333929699"
      },
      "outputs": [
        {
          "name": "stdout",
          "output_type": "stream",
          "text": [
            "8/8 [==============================] - 0s 2ms/step\n",
            "Accuracy: 0.9714285714285714\n",
            "Precision: 0.9793469387755102\n",
            "Recall: 0.9714285714285714\n",
            "F1-score: 0.9732844071751898\n"
          ]
        }
      ],
      "source": [
        "from sklearn.metrics import accuracy_score, precision_score, recall_score, f1_score\n",
        "# Predict probabilities for each class\n",
        "y_pred_probabilities = model.predict(X_test)\n",
        "\n",
        "# Get the class with the highest probability for each instance\n",
        "y_pred = np.argmax(y_pred_probabilities, axis=1)\n",
        "\n",
        "# Compute evaluation metrics\n",
        "accuracy = accuracy_score(y_test, y_pred)\n",
        "precision = precision_score(y_test, y_pred, average='weighted')\n",
        "recall = recall_score(y_test, y_pred, average='weighted')\n",
        "f1 = f1_score(y_test, y_pred, average='weighted')\n",
        "\n",
        "# Print evaluation metrics\n",
        "print(\"Accuracy:\", accuracy)\n",
        "print(\"Precision:\", precision)\n",
        "print(\"Recall:\", recall)\n",
        "print(\"F1-score:\", f1)\n"
      ]
    },
    {
      "cell_type": "code",
      "execution_count": null,
      "metadata": {
        "colab": {
          "base_uri": "https://localhost:8080/"
        },
        "id": "iWneyopSoz-R",
        "outputId": "e48ce2b0-fbe6-4382-a6d2-21ae74f5f18c"
      },
      "outputs": [
        {
          "name": "stdout",
          "output_type": "stream",
          "text": [
            "Requirement already satisfied: fastapi in /usr/local/lib/python3.10/dist-packages (0.110.1)\n",
            "Requirement already satisfied: uvicorn in /usr/local/lib/python3.10/dist-packages (0.29.0)\n",
            "Requirement already satisfied: pyngrok in /usr/local/lib/python3.10/dist-packages (7.1.6)\n",
            "Requirement already satisfied: nest-asyncio in /usr/local/lib/python3.10/dist-packages (1.6.0)\n",
            "Requirement already satisfied: pydantic!=1.8,!=1.8.1,!=2.0.0,!=2.0.1,!=2.1.0,<3.0.0,>=1.7.4 in /usr/local/lib/python3.10/dist-packages (from fastapi) (2.6.4)\n",
            "Requirement already satisfied: starlette<0.38.0,>=0.37.2 in /usr/local/lib/python3.10/dist-packages (from fastapi) (0.37.2)\n",
            "Requirement already satisfied: typing-extensions>=4.8.0 in /usr/local/lib/python3.10/dist-packages (from fastapi) (4.11.0)\n",
            "Requirement already satisfied: click>=7.0 in /usr/local/lib/python3.10/dist-packages (from uvicorn) (8.1.7)\n",
            "Requirement already satisfied: h11>=0.8 in /usr/local/lib/python3.10/dist-packages (from uvicorn) (0.14.0)\n",
            "Requirement already satisfied: PyYAML>=5.1 in /usr/local/lib/python3.10/dist-packages (from pyngrok) (6.0.1)\n",
            "Requirement already satisfied: annotated-types>=0.4.0 in /usr/local/lib/python3.10/dist-packages (from pydantic!=1.8,!=1.8.1,!=2.0.0,!=2.0.1,!=2.1.0,<3.0.0,>=1.7.4->fastapi) (0.6.0)\n",
            "Requirement already satisfied: pydantic-core==2.16.3 in /usr/local/lib/python3.10/dist-packages (from pydantic!=1.8,!=1.8.1,!=2.0.0,!=2.0.1,!=2.1.0,<3.0.0,>=1.7.4->fastapi) (2.16.3)\n",
            "Requirement already satisfied: anyio<5,>=3.4.0 in /usr/local/lib/python3.10/dist-packages (from starlette<0.38.0,>=0.37.2->fastapi) (3.7.1)\n",
            "Requirement already satisfied: idna>=2.8 in /usr/local/lib/python3.10/dist-packages (from anyio<5,>=3.4.0->starlette<0.38.0,>=0.37.2->fastapi) (3.6)\n",
            "Requirement already satisfied: sniffio>=1.1 in /usr/local/lib/python3.10/dist-packages (from anyio<5,>=3.4.0->starlette<0.38.0,>=0.37.2->fastapi) (1.3.1)\n",
            "Requirement already satisfied: exceptiongroup in /usr/local/lib/python3.10/dist-packages (from anyio<5,>=3.4.0->starlette<0.38.0,>=0.37.2->fastapi) (1.2.0)\n"
          ]
        }
      ],
      "source": [
        "pip install fastapi uvicorn pyngrok nest-asyncio\n"
      ]
    },
    {
      "cell_type": "code",
      "execution_count": null,
      "metadata": {
        "id": "cIETo38k2aVl"
      },
      "outputs": [],
      "source": [
        "from fastapi import FastAPI\n",
        "\n",
        "app = FastAPI()\n",
        "\n",
        "@app.post(\"/predict/\")\n",
        "async def predict(data: dict):\n",
        "    # Perform prediction logic here\n",
        "    return {\"message\": \"Received data\", \"data\": data}\n"
      ]
    },
    {
      "cell_type": "code",
      "execution_count": null,
      "metadata": {
        "colab": {
          "background_save": true,
          "base_uri": "https://localhost:8080/"
        },
        "id": "mQTsLASM2-s2",
        "outputId": "7c1c2976-24b6-4713-ad1b-ec649a1fec40"
      },
      "outputs": [
        {
          "metadata": {
            "tags": null
          },
          "name": "stderr",
          "output_type": "stream",
          "text": [
            "INFO:     Started server process [31403]\n",
            "INFO:     Waiting for application startup.\n",
            "INFO:     Application startup complete.\n",
            "INFO:     Uvicorn running on http://127.0.0.1:8000 (Press CTRL+C to quit)\n"
          ]
        },
        {
          "metadata": {
            "tags": null
          },
          "name": "stdout",
          "output_type": "stream",
          "text": [
            "Public URL: https://d2c9-34-106-173-131.ngrok-free.app\n",
            "INFO:     54.86.50.139:0 - \"POST /predict/ HTTP/1.1\" 200 OK\n"
          ]
        }
      ],
      "source": [
        "import nest_asyncio\n",
        "from pyngrok import ngrok\n",
        "import uvicorn\n",
        "\n",
        "# Make sure to set the auth token before using ngrok\n",
        "ngrok.set_auth_token(\"2esBSCdqijEL6CcQdcMSQnZftVa_3aNhL3yWpDyboS41dKDuW\")\n",
        "\n",
        "# Start ngrok tunnel\n",
        "ngrok_tunnel = ngrok.connect(8000)\n",
        "\n",
        "# Get public URL\n",
        "public_url = ngrok_tunnel.public_url\n",
        "print(\"Public URL:\", public_url)\n",
        "\n",
        "# Run the FastAPI app using uvicorn\n",
        "nest_asyncio.apply()\n",
        "uvicorn.run(app, port=8000)\n"
      ]
    }
  ],
  "metadata": {
    "colab": {
      "provenance": [],
      "mount_file_id": "1GFcn2z3XAN1T8kjG8XqeYRNp-4_JQOwS",
      "authorship_tag": "ABX9TyPnoqLG+eLhGmpA4mtM9WAU",
      "include_colab_link": true
    },
    "kernelspec": {
      "display_name": "Python 3",
      "name": "python3"
    },
    "language_info": {
      "name": "python"
    }
  },
  "nbformat": 4,
  "nbformat_minor": 0
}